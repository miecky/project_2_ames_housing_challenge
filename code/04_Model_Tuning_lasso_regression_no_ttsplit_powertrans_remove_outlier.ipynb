{
 "cells": [
  {
   "cell_type": "markdown",
   "metadata": {},
   "source": [
    "# Project 2 - Ames Housing Data and Kaggle Challenge\n",
    "\n",
    "## Part 4 - LASSO Regression no Train/Test Split + Power Transform + Removal Outliers\n"
   ]
  },
  {
   "cell_type": "code",
   "execution_count": 3,
   "metadata": {},
   "outputs": [],
   "source": [
    "# Import libraries\n",
    "import pandas as pd\n",
    "import numpy as np\n",
    "import seaborn as sns\n",
    "import matplotlib.pyplot as plt\n",
    "from sklearn.model_selection import train_test_split, cross_val_score\n",
    "from sklearn.linear_model import LinearRegression, LassoCV, RidgeCV\n",
    "from sklearn.preprocessing import StandardScaler, PowerTransformer\n",
    "from sklearn.metrics import r2_score\n",
    "\n",
    "%matplotlib inline"
   ]
  },
  {
   "cell_type": "code",
   "execution_count": 4,
   "metadata": {},
   "outputs": [],
   "source": [
    "# Set Display Range\n",
    "pd.set_option('display.max_rows', 500)\n",
    "pd.set_option('display.max_columns', 500)\n",
    "pd.set_option('display.width', 1000)"
   ]
  },
  {
   "cell_type": "code",
   "execution_count": 5,
   "metadata": {},
   "outputs": [],
   "source": [
    "# Load Data from Part 2\n",
    "%store -r df_train\n",
    "%store -r X_tr\n",
    "%store -r X_te\n",
    "%store -r y_tr\n",
    "%store -r y_tr_log"
   ]
  },
  {
   "cell_type": "markdown",
   "metadata": {},
   "source": [
    "### 4.1 Feature Selection\n",
    "\n",
    "> Selected Feature for further tuning below:\n",
    "\n",
    "**Feature**|**Beta**\n",
    ":-----:|:-----:\n",
    "overall\\_qual|21125.90862\n",
    "total\\_bsmt\\_sf|4472.870361\n",
    "gr\\_liv\\_area|18519.20008\n",
    "bsmt\\_full\\_bath|715.869773\n",
    "full\\_bath|708.268807\n",
    "fireplaces|2472.700521\n",
    "garage\\_cars|6615.962124\n",
    "neighborhood|-2202.575907\n",
    "bldg\\_type\\_1fam|956.324511\n",
    "exter\\_qual|1823.557199\n",
    "bsmt\\_qual|6313.944549\n",
    "bsmt\\_exposure|4474.63341\n",
    "heating\\_qc|1283.930321\n",
    "kitchen\\_qual|8635.439995\n",
    "big\\_house|-1492.272325"
   ]
  },
  {
   "cell_type": "code",
   "execution_count": 6,
   "metadata": {},
   "outputs": [],
   "source": [
    "# Feature by Group\n",
    "feat_num = [ #'lot_frontage',\n",
    "            'lot_area_log',\n",
    "            'overall_qual',\n",
    "            'total_bsmt_sf',\n",
    "            'gr_liv_area_power',\n",
    "            'bsmt_full_bath',\n",
    "            'bsmtfin_sf_1',# maybe\n",
    "            'full_bath',\n",
    "            'fireplaces',\n",
    "            'garage_cars',\n",
    "            'street_pave',\n",
    "            'overall_cond',\n",
    "#             'house_age'\n",
    "          ]\n",
    "\n",
    "feat_bldg_type = ['bldg_type_1fam',\n",
    "                  'bldg_type_duplex',\n",
    "                  'bldg_type_twnhs',\n",
    "                  'bldg_type_twnhse'\n",
    "                 ]\n",
    "\n",
    "feat_neighborhood = ['neighborhood_blmngtn',\n",
    "                     'neighborhood_blueste',\n",
    "                     'neighborhood_brdale',\n",
    "                     'neighborhood_brkside',\n",
    "                     'neighborhood_clearcr',\n",
    "                     'neighborhood_collgcr',\n",
    "                     'neighborhood_crawfor',\n",
    "                     'neighborhood_edwards',\n",
    "                     'neighborhood_gilbert',\n",
    "                     'neighborhood_greens',\n",
    "                     'neighborhood_grnhill',\n",
    "                     'neighborhood_idotrr',\n",
    "                     'neighborhood_landmrk',\n",
    "                     'neighborhood_mitchel',\n",
    "                     'neighborhood_names',\n",
    "                     'neighborhood_npkvill',\n",
    "                     'neighborhood_nwames',\n",
    "                     'neighborhood_noridge',\n",
    "                     'neighborhood_nridght',\n",
    "                     'neighborhood_oldtown',\n",
    "                     'neighborhood_swisu',\n",
    "                     'neighborhood_sawyer',\n",
    "                     'neighborhood_sawyerw',\n",
    "                     'neighborhood_somerst',\n",
    "                     'neighborhood_stonebr',\n",
    "                     'neighborhood_timber',\n",
    "                     'neighborhood_veenker'\n",
    "                     ]\n",
    "\n",
    "feat_exter_qual = ['exter_qual_ex',\n",
    "                   'exter_qual_gd',\n",
    "                   'exter_qual_ta'\n",
    "                  ]\n",
    "\n",
    "feat_bsmt_qual = ['bsmt_qual_ex',\n",
    "                  'bsmt_qual_fa',\n",
    "                  'bsmt_qual_gd',\n",
    "                  'bsmt_qual_ta'\n",
    "                 ]\n",
    "\n",
    "feat_bsmt_exposure = ['bsmt_exposure_av',\n",
    "                      'bsmt_exposure_gd',\n",
    "                      'bsmt_exposure_mn'\n",
    "                     ]\n",
    "\n",
    "feat_heating_qc = ['heating_qc_ex',\n",
    "                   'heating_qc_fa',\n",
    "                   'heating_qc_gd',\n",
    "                   'heating_qc_ta'\n",
    "                  ]\n",
    "\n",
    "feat_kitchen_qual = ['kitchen_qual_ex',\n",
    "                     'kitchen_qual_gd',\n",
    "                     'kitchen_qual_po',\n",
    "                     'kitchen_qual_ta'\n",
    "                    ]\n",
    "feat_zoning = ['ms_zoning_fv',\n",
    "               'ms_zoning_rh',\n",
    "               'ms_zoning_rl',\n",
    "               'ms_zoning_rm'\n",
    "               ]\n",
    "\n",
    "feat_yr_sold = ['yr_sold_2006',\n",
    "                'yr_sold_2007',\n",
    "                'yr_sold_2008',\n",
    "                'yr_sold_2009'\n",
    "               ]\n",
    "\n",
    "feat_condition_1 = ['condition_1_feedr',\n",
    "                    'condition_1_norm',\n",
    "                    'condition_1_posa',\n",
    "                    'condition_1_posn',\n",
    "                    'condition_1_rrae',\n",
    "                    'condition_1_rran',\n",
    "                    'condition_1_rrne',\n",
    "                    'condition_1_rrnn'\n",
    "                   ]\n",
    "\n",
    "feat_exterior_qual = ['exter_qual_ex',\n",
    "                      'exter_qual_gd',\n",
    "                      'exter_qual_ta'\n",
    "                     ]\n",
    "\n",
    "feat_exterior_1st = ['exterior_1st_asbshng',\n",
    "                     'exterior_1st_brkcomm',\n",
    "                     'exterior_1st_brkface',\n",
    "                     'exterior_1st_cblock',\n",
    "                     'exterior_1st_cemntbd',\n",
    "                     'exterior_1st_hdboard',\n",
    "                     'exterior_1st_imstucc',\n",
    "                     'exterior_1st_metalsd',\n",
    "                     'exterior_1st_plywood',\n",
    "                     'exterior_1st_precast',\n",
    "                     'exterior_1st_stone',\n",
    "                     'exterior_1st_stucco',\n",
    "                     'exterior_1st_vinylsd',\n",
    "                     'exterior_1st_wd_sdng',\n",
    "                     'exterior_1st_wdshing'\n",
    "                    ]\n",
    "\n",
    "feat_foundation = ['foundation_brktil',\n",
    "                   'foundation_cblock',\n",
    "                   'foundation_pconc',\n",
    "                   'foundation_stone',\n",
    "                   'foundation_wood'\n",
    "                  ]\n",
    "\n",
    "feat_fireplace_qu = ['fireplace_qu_ex',\n",
    "                     'fireplace_qu_fa',\n",
    "                     'fireplace_qu_gd',\n",
    "                     'fireplace_qu_po',\n",
    "                     'fireplace_qu_ta'\n",
    "                    ]\n",
    "\n",
    "pool_qc = ['pool_qc_ex',\n",
    "           'pool_qc_fa',\n",
    "           'pool_qc_gd',\n",
    "           'pool_qc_ta'\n",
    "          ]\n",
    "\n",
    "sale_type = ['sale_type_cod',\n",
    "             'sale_type_cwd',\n",
    "             'sale_type_con',\n",
    "             'sale_type_conld',\n",
    "             'sale_type_conli',\n",
    "             'sale_type_new',\n",
    "              'sale_type_oth',\n",
    "             'sale_type_vwd',\n",
    "             'sale_type_wd_'\n",
    "            ]"
   ]
  },
  {
   "cell_type": "code",
   "execution_count": 7,
   "metadata": {},
   "outputs": [],
   "source": [
    "# Select Feature\n",
    "feature = feat_num + feat_bldg_type + feat_neighborhood + feat_exter_qual + \\\n",
    "          feat_bsmt_qual + feat_bsmt_exposure + feat_heating_qc + feat_kitchen_qual + feat_exterior_1st + \\\n",
    "          feat_condition_1 + feat_fireplace_qu + pool_qc + sale_type + feat_exterior_qual"
   ]
  },
  {
   "cell_type": "markdown",
   "metadata": {},
   "source": [
    "### 4.2 Prepare Variables"
   ]
  },
  {
   "cell_type": "code",
   "execution_count": 8,
   "metadata": {},
   "outputs": [],
   "source": [
    "X = X_tr[feature] # Training predictors\n",
    "y = y_tr          # Training saleprice\n",
    "X_exam = X_te[feature] # Testing predictors"
   ]
  },
  {
   "cell_type": "markdown",
   "metadata": {},
   "source": [
    "### 4.3 Scale/Normalize"
   ]
  },
  {
   "cell_type": "code",
   "execution_count": 9,
   "metadata": {},
   "outputs": [
    {
     "name": "stderr",
     "output_type": "stream",
     "text": [
      "/Users/kaizhao/anaconda3/lib/python3.7/site-packages/sklearn/preprocessing/data.py:645: DataConversionWarning: Data with input dtype uint8, int64, float64 were all converted to float64 by StandardScaler.\n",
      "  return self.partial_fit(X, y)\n",
      "/Users/kaizhao/anaconda3/lib/python3.7/site-packages/sklearn/base.py:464: DataConversionWarning: Data with input dtype uint8, int64, float64 were all converted to float64 by StandardScaler.\n",
      "  return self.fit(X, **fit_params).transform(X)\n",
      "/Users/kaizhao/anaconda3/lib/python3.7/site-packages/ipykernel_launcher.py:4: DataConversionWarning: Data with input dtype uint8, int64, float64 were all converted to float64 by StandardScaler.\n",
      "  after removing the cwd from sys.path.\n"
     ]
    }
   ],
   "source": [
    "ss = StandardScaler()\n",
    "\n",
    "X_sc = ss.fit_transform(X)\n",
    "X_exam_sc = ss.transform(X_exam)"
   ]
  },
  {
   "cell_type": "markdown",
   "metadata": {},
   "source": [
    "### 4.4 PowerTransformer"
   ]
  },
  {
   "cell_type": "code",
   "execution_count": 10,
   "metadata": {},
   "outputs": [
    {
     "name": "stderr",
     "output_type": "stream",
     "text": [
      "/Users/kaizhao/anaconda3/lib/python3.7/site-packages/sklearn/preprocessing/data.py:2798: RuntimeWarning: divide by zero encountered in log\n",
      "  loglike = -n_samples / 2 * np.log(x_trans.var())\n"
     ]
    }
   ],
   "source": [
    "pt = PowerTransformer()\n",
    "pt.fit(X_sc)\n",
    "X_sc = pt.transform(X_sc)\n",
    "\n",
    "pt_y = PowerTransformer()\n",
    "pt_y.fit(y.to_frame())\n",
    "y_pt = pt_y.transform(y.to_frame())"
   ]
  },
  {
   "cell_type": "markdown",
   "metadata": {},
   "source": [
    "### 4.5 Cross Validation"
   ]
  },
  {
   "cell_type": "code",
   "execution_count": 11,
   "metadata": {},
   "outputs": [],
   "source": [
    "# Set up a list of Lasso alphas to check.\n",
    "l_alphas = np.logspace(-3, 0, 300)\n",
    "lasso = LassoCV(alphas=l_alphas, cv=9)"
   ]
  },
  {
   "cell_type": "code",
   "execution_count": 12,
   "metadata": {},
   "outputs": [
    {
     "name": "stderr",
     "output_type": "stream",
     "text": [
      "/Users/kaizhao/anaconda3/lib/python3.7/site-packages/sklearn/linear_model/coordinate_descent.py:1109: DataConversionWarning: A column-vector y was passed when a 1d array was expected. Please change the shape of y to (n_samples, ), for example using ravel().\n",
      "  y = column_or_1d(y, warn=True)\n",
      "/Users/kaizhao/anaconda3/lib/python3.7/site-packages/sklearn/linear_model/coordinate_descent.py:1109: DataConversionWarning: A column-vector y was passed when a 1d array was expected. Please change the shape of y to (n_samples, ), for example using ravel().\n",
      "  y = column_or_1d(y, warn=True)\n",
      "/Users/kaizhao/anaconda3/lib/python3.7/site-packages/sklearn/linear_model/coordinate_descent.py:1109: DataConversionWarning: A column-vector y was passed when a 1d array was expected. Please change the shape of y to (n_samples, ), for example using ravel().\n",
      "  y = column_or_1d(y, warn=True)\n",
      "/Users/kaizhao/anaconda3/lib/python3.7/site-packages/sklearn/linear_model/coordinate_descent.py:1109: DataConversionWarning: A column-vector y was passed when a 1d array was expected. Please change the shape of y to (n_samples, ), for example using ravel().\n",
      "  y = column_or_1d(y, warn=True)\n",
      "/Users/kaizhao/anaconda3/lib/python3.7/site-packages/sklearn/linear_model/coordinate_descent.py:1109: DataConversionWarning: A column-vector y was passed when a 1d array was expected. Please change the shape of y to (n_samples, ), for example using ravel().\n",
      "  y = column_or_1d(y, warn=True)\n",
      "/Users/kaizhao/anaconda3/lib/python3.7/site-packages/sklearn/linear_model/coordinate_descent.py:1109: DataConversionWarning: A column-vector y was passed when a 1d array was expected. Please change the shape of y to (n_samples, ), for example using ravel().\n",
      "  y = column_or_1d(y, warn=True)\n",
      "/Users/kaizhao/anaconda3/lib/python3.7/site-packages/sklearn/linear_model/coordinate_descent.py:1109: DataConversionWarning: A column-vector y was passed when a 1d array was expected. Please change the shape of y to (n_samples, ), for example using ravel().\n",
      "  y = column_or_1d(y, warn=True)\n",
      "/Users/kaizhao/anaconda3/lib/python3.7/site-packages/sklearn/linear_model/coordinate_descent.py:1109: DataConversionWarning: A column-vector y was passed when a 1d array was expected. Please change the shape of y to (n_samples, ), for example using ravel().\n",
      "  y = column_or_1d(y, warn=True)\n",
      "/Users/kaizhao/anaconda3/lib/python3.7/site-packages/sklearn/linear_model/coordinate_descent.py:1109: DataConversionWarning: A column-vector y was passed when a 1d array was expected. Please change the shape of y to (n_samples, ), for example using ravel().\n",
      "  y = column_or_1d(y, warn=True)\n"
     ]
    },
    {
     "data": {
      "text/plain": [
       "0.9257341424519075"
      ]
     },
     "execution_count": 12,
     "metadata": {},
     "output_type": "execute_result"
    }
   ],
   "source": [
    "cross_val_score(lasso, X_sc, y_pt, cv=9).mean()"
   ]
  },
  {
   "cell_type": "markdown",
   "metadata": {},
   "source": [
    "### 4.6 Model Fit - Ridge Regression"
   ]
  },
  {
   "cell_type": "code",
   "execution_count": 13,
   "metadata": {},
   "outputs": [
    {
     "name": "stderr",
     "output_type": "stream",
     "text": [
      "/Users/kaizhao/anaconda3/lib/python3.7/site-packages/sklearn/linear_model/coordinate_descent.py:1109: DataConversionWarning: A column-vector y was passed when a 1d array was expected. Please change the shape of y to (n_samples, ), for example using ravel().\n",
      "  y = column_or_1d(y, warn=True)\n"
     ]
    },
    {
     "data": {
      "text/plain": [
       "LassoCV(alphas=array([0.001  , 0.00102, ..., 0.97716, 1.     ]), copy_X=True,\n",
       "    cv=9, eps=0.001, fit_intercept=True, max_iter=1000, n_alphas=100,\n",
       "    n_jobs=None, normalize=False, positive=False, precompute='auto',\n",
       "    random_state=None, selection='cyclic', tol=0.0001, verbose=False)"
      ]
     },
     "execution_count": 13,
     "metadata": {},
     "output_type": "execute_result"
    }
   ],
   "source": [
    "lasso.fit(X_sc, y_pt)"
   ]
  },
  {
   "cell_type": "code",
   "execution_count": 14,
   "metadata": {},
   "outputs": [
    {
     "name": "stdout",
     "output_type": "stream",
     "text": [
      "R2 score for the Ridge Regression is 0.9329360698783751\n"
     ]
    }
   ],
   "source": [
    "print(f'R2 score for the Ridge Regression is {lasso.score(X_sc, y_pt)}')"
   ]
  },
  {
   "cell_type": "code",
   "execution_count": 15,
   "metadata": {},
   "outputs": [],
   "source": [
    "# Calculate the y_test_pred\n",
    "y_pred = lasso.predict(X_sc)\n",
    "y_pred_reversed = pt_y.inverse_transform(y_pred.reshape(-1,1))"
   ]
  },
  {
   "cell_type": "code",
   "execution_count": 16,
   "metadata": {},
   "outputs": [
    {
     "data": {
      "text/plain": [
       "0.954727241415369"
      ]
     },
     "execution_count": 16,
     "metadata": {},
     "output_type": "execute_result"
    }
   ],
   "source": [
    "# Calculat the R2 scores\n",
    "r2_score(y, y_pred_reversed)"
   ]
  },
  {
   "cell_type": "code",
   "execution_count": 17,
   "metadata": {},
   "outputs": [],
   "source": [
    "# Create a list of y_pred values\n",
    "y_pred_final = pd.Series([y_pred_reversed[i][0] for i in range(len(y_pred_reversed))])"
   ]
  },
  {
   "cell_type": "code",
   "execution_count": 18,
   "metadata": {},
   "outputs": [],
   "source": [
    "# Calculate residuals\n",
    "residual = y - y_pred_final"
   ]
  },
  {
   "cell_type": "code",
   "execution_count": 19,
   "metadata": {
    "scrolled": false
   },
   "outputs": [
    {
     "data": {
      "image/png": "[encoded data removed]",
      "text/plain": [
       "<Figure size 864x432 with 2 Axes>"
      ]
     },
     "metadata": {
      "needs_background": "light"
     },
     "output_type": "display_data"
    }
   ],
   "source": [
    "# Plot the Y and Residual\n",
    "plt.figure(figsize=(12,6))\n",
    "\n",
    "# Residual Plot\n",
    "plt.subplot(121)\n",
    "plt.scatter(y_pred_reversed, residual)\n",
    "plt.axhline(0, c='red')\n",
    "plt.title('Residual Plot', size=15)\n",
    "plt.xlabel('y_pred_final', size=12)\n",
    "\n",
    "# y_train vs. y_pred\n",
    "plt.subplot(122)\n",
    "plt.scatter(y_pred_reversed, y)\n",
    "plt.title('y_train vs. y_pred', size=15)\n",
    "plt.xlabel('y_pred_final', size=12)\n",
    "plt.ylabel('y_train', size=12)\n",
    "plt.tight_layout();"
   ]
  },
  {
   "cell_type": "code",
   "execution_count": 20,
   "metadata": {
    "scrolled": true
   },
   "outputs": [
    {
     "name": "stdout",
     "output_type": "stream",
     "text": [
      "MSE for LASSO Regression is 15819.9975568731\n"
     ]
    }
   ],
   "source": [
    "# Calculate the MSE\n",
    "MSE = np.sqrt((residual**2).mean())\n",
    "print(f'MSE for LASSO Regression is {MSE}')"
   ]
  },
  {
   "cell_type": "markdown",
   "metadata": {},
   "source": [
    "### 4.7 Analysis"
   ]
  },
  {
   "cell_type": "code",
   "execution_count": 21,
   "metadata": {},
   "outputs": [
    {
     "data": {
      "text/plain": [
       "226    -49149.430096\n",
       "1141   -48550.973403\n",
       "399    -48263.159968\n",
       "8      -47575.829697\n",
       "1450   -47080.658736\n",
       "Name: 0, dtype: float64"
      ]
     },
     "execution_count": 21,
     "metadata": {},
     "output_type": "execute_result"
    }
   ],
   "source": [
    "# save residuals as variable and check the values\n",
    "df_resid = residual.reset_index()\n",
    "df_resid[0].sort_values().head()"
   ]
  },
  {
   "cell_type": "code",
   "execution_count": 22,
   "metadata": {},
   "outputs": [
    {
     "data": {
      "text/plain": [
       "Int64Index([69, 80, 136, 609, 897, 1372, 1556, 1660, 1698], dtype='int64')"
      ]
     },
     "execution_count": 22,
     "metadata": {},
     "output_type": "execute_result"
    }
   ],
   "source": [
    "# Found residual > 50,000\n",
    "df_resid[~df_resid[0].between(-50000, 50000)].index"
   ]
  },
  {
   "cell_type": "markdown",
   "metadata": {},
   "source": [
    "### 4.8 Prepare for Kaggle Submission"
   ]
  },
  {
   "cell_type": "code",
   "execution_count": 23,
   "metadata": {},
   "outputs": [],
   "source": [
    "# Calculate the y_exam_pred: inverse the log transformation.\n",
    "y_exam_pred = lasso.predict(X_exam_sc)\n",
    "y_exam_reversed = pt_y.inverse_transform(y_exam_pred.reshape(-1,1))\n",
    "y_exam_reversed = pd.Series([y_exam_reversed[i][0] for i in range(len(y_exam_reversed))])"
   ]
  },
  {
   "cell_type": "code",
   "execution_count": 24,
   "metadata": {},
   "outputs": [],
   "source": [
    "# Format and Output\n",
    "kaggle_submit = pd.DataFrame({'id': X_te['id'], 'saleprice': y_exam_reversed})\n",
    "kaggle_submit.to_csv('lasso_regression_no_ttsplit_PowerTrans_v15.csv', index = False)"
   ]
  }
 ],
 "metadata": {
  "kernelspec": {
   "display_name": "Python 3",
   "language": "python",
   "name": "python3"
  },
  "language_info": {
   "codemirror_mode": {
    "name": "ipython",
    "version": 3
   },
   "file_extension": ".py",
   "mimetype": "text/x-python",
   "name": "python",
   "nbconvert_exporter": "python",
   "pygments_lexer": "ipython3",
   "version": "3.7.3"
  }
 },
 "nbformat": 4,
 "nbformat_minor": 2
}
